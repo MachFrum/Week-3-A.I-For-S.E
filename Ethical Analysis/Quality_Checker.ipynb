{
 "cells": [
  {
   "cell_type": "markdown",
   "metadata": {},
   "source": [
    "Part 1:\n",
    "This class contains rules to check the quality of a single input image.\n",
    "It's designed to be fast and work in real-time in the Streamlit app."
   ]
  },
  {
   "cell_type": "code",
   "execution_count": 1,
   "metadata": {},
   "outputs": [],
   "source": [
    "import numpy as np\n",
    "import cv2\n",
    "from torchvision import datasets"
   ]
  },
  {
   "cell_type": "markdown",
   "metadata": {},
   "source": [
    "KEY CONCEPTS APPLIED-\n",
    "1. Class-based Design: Encapsulated all logic into a clean, reusable class.\n",
    "2. Single-Image Focus: The main `run()` method is designed to analyze one\n",
    "    image at a time, which is exactly what the Streamlit app needs.\n",
    "3. Simplified Rules: Replaced some complex rules with more efficient and standard\n",
    "    OpenCV equivalents (e.g., using Laplacian variance for noise).\n",
    "4. Parameterized Thresholds: Moved hardcoded numbers into class attributes\n",
    "    (e.g., self.ROTATION_THRESHOLD), making them easy to see and tune.\n",
    "5. Clear Output: The `run()` method returns a simple list of warning strings,\n",
    "    perfect for displaying to the user in the final app."
   ]
  },
  {
   "cell_type": "code",
   "execution_count": 2,
   "metadata": {},
   "outputs": [],
   "source": [
    "class ImageQualityValidator:\n",
    "    \"\"\"\n",
    "    A rule-based system to detect potential quality issues in a single\n",
    "    handwritten digit image before or after prediction.\n",
    "    \"\"\"\n",
    "    def __init__(self):\n",
    "        # Thresholds can be tuned here\n",
    "        self.THICKNESS_THRESHOLD_LOW = 0.3  # Ratio of eroded pixels\n",
    "        self.THICKNESS_THRESHOLD_HIGH = 0.8\n",
    "        self.POSITION_OFFSET_THRESHOLD = 5  # Pixels from center (for 28x28)\n",
    "        self.ROTATION_THRESHOLD = 20        # Degrees\n",
    "        self.NOISE_THRESHOLD = 1500         # Variance of Laplacian\n",
    "        self.CONTRAST_THRESHOLD_LOW = 0.2   # Std dev of pixel values\n",
    "        \n",
    "    def _check_thickness(self, image):\n",
    "        \"\"\"Rule to detect very thin or very thick strokes.\"\"\"\n",
    "        # Ensure image is binary (0 or 255)\n",
    "        _, binary_img = cv2.threshold((image * 255).astype(np.uint8), 128, 255, cv2.THRESH_BINARY)\n",
    "        \n",
    "        # Erode the image to find the \"core\" of the strokes\n",
    "        kernel = np.ones((3, 3), np.uint8)\n",
    "        eroded = cv2.erode(binary_img, kernel, iterations=1)\n",
    "        \n",
    "        # Calculate the ratio of core pixels to total pixels\n",
    "        total_pixels = cv2.countNonZero(binary_img)\n",
    "        eroded_pixels = cv2.countNonZero(eroded)\n",
    "        \n",
    "        if total_pixels == 0: return None\n",
    "        \n",
    "        thickness_ratio = eroded_pixels / total_pixels\n",
    "        \n",
    "        if thickness_ratio < self.THICKNESS_THRESHOLD_LOW:\n",
    "            return f\"Image quality warning: Digit strokes appear unusually thin (ratio: {thickness_ratio:.2f}).\"\n",
    "        if thickness_ratio > self.THICKNESS_THRESHOLD_HIGH:\n",
    "            return f\"Image quality warning: Digit strokes appear unusually thick or blob-like (ratio: {thickness_ratio:.2f}).\"\n",
    "        return None\n",
    "\n",
    "    def _check_position(self, image):\n",
    "        \"\"\"Rule to detect if the digit is significantly off-center.\"\"\"\n",
    "        # Find center of mass\n",
    "        moments = cv2.moments((image > 0.1).astype(np.uint8))\n",
    "        if moments[\"m00\"] == 0: return None\n",
    "        \n",
    "        center_x = int(moments[\"m10\"] / moments[\"m00\"])\n",
    "        center_y = int(moments[\"m01\"] / moments[\"m00\"])\n",
    "        \n",
    "        img_center_x, img_center_y = image.shape[1] // 2, image.shape[0] // 2\n",
    "        \n",
    "        offset = np.sqrt((center_x - img_center_x)**2 + (center_y - img_center_y)**2)\n",
    "        \n",
    "        if offset > self.POSITION_OFFSET_THRESHOLD:\n",
    "            return f\"Image quality warning: Digit is significantly off-center (offset: {offset:.1f} pixels).\"\n",
    "        return None\n",
    "        \n",
    "    def _check_rotation(self, image):\n",
    "        \"\"\"Rule to detect if the digit is heavily rotated.\"\"\"\n",
    "        # Find contours of the digit\n",
    "        contours, _ = cv2.findContours((image > 0.1).astype(np.uint8), cv2.RETR_EXTERNAL, cv2.CHAIN_APPROX_SIMPLE)\n",
    "        if not contours: return None\n",
    "        \n",
    "        # Use the largest contour\n",
    "        largest_contour = max(contours, key=cv2.contourArea)\n",
    "        \n",
    "        # Get the angle from the minimum area rectangle\n",
    "        # The angle returned is between -90 and 0\n",
    "        _, _, angle = cv2.minAreaRect(largest_contour)\n",
    "        \n",
    "        # Normalize angle to be between 0 and 90\n",
    "        if angle < -45:\n",
    "            angle = 90 + angle\n",
    "            \n",
    "        if abs(angle) > self.ROTATION_THRESHOLD:\n",
    "            return f\"Image quality warning: Digit may be rotated by ~{abs(angle):.0f} degrees.\"\n",
    "        return None\n",
    "\n",
    "    def _check_noise_and_blur(self, image):\n",
    "        \"\"\"Rule to estimate noise or blur using Laplacian variance.\"\"\"\n",
    "        # The variance of the Laplacian is a good measure of focus/clarity\n",
    "        laplacian_var = cv2.Laplacian((image * 255).astype(np.uint8), cv2.CV_64F).var()\n",
    "        if laplacian_var < 100: # Very low variance can indicate blur\n",
    "             return f\"Image quality warning: Image appears blurry (Laplacian var: {laplacian_var:.0f}).\"\n",
    "        if laplacian_var > self.NOISE_THRESHOLD:\n",
    "            return f\"Image quality warning: Image appears noisy (Laplacian var: {laplacian_var:.0f}).\"\n",
    "        return None\n",
    "        \n",
    "    def run(self, image_np):\n",
    "        \"\"\"\n",
    "        Runs all quality checks on a single numpy image.\n",
    "        The image should be a 2D numpy array (e.g., 28x28).\n",
    "        \"\"\"\n",
    "        warnings = []\n",
    "        \n",
    "        # Ensure image is normalized between 0 and 1 for consistency\n",
    "        if image_np.max() > 1.0:\n",
    "            image_np = image_np / 255.0\n",
    "            \n",
    "        checks = [\n",
    "            self._check_thickness,\n",
    "            self._check_position,\n",
    "            self._check_rotation,\n",
    "            self._check_noise_and_blur,\n",
    "        ]\n",
    "        \n",
    "        for check_func in checks:\n",
    "            result = check_func(image_np)\n",
    "            if result:\n",
    "                warnings.append(result)\n",
    "                \n",
    "        return warnings"
   ]
  },
  {
   "cell_type": "markdown",
   "metadata": {},
   "source": [
    "Part 2: Example Usage Block\n",
    "==============================================================================\n",
    "This block demonstrates how to use the validator."
   ]
  },
  {
   "cell_type": "code",
   "execution_count": 3,
   "metadata": {},
   "outputs": [
    {
     "name": "stdout",
     "output_type": "stream",
     "text": [
      "--- Analyzing Sample Image for Digit '5' ---\n",
      "⚠️ The following quality issues were detected:\n",
      "  - Image quality warning: Digit strokes appear unusually thin (ratio: 0.00).\n",
      "  - Image quality warning: Digit may be rotated by ~90 degrees.\n",
      "  - Image quality warning: Image appears noisy (Laplacian var: 15145).\n"
     ]
    },
    {
     "data": {
      "image/png": "[encoded data removed]",
      "text/plain": [
       "<Figure size 640x480 with 1 Axes>"
      ]
     },
     "metadata": {},
     "output_type": "display_data"
    }
   ],
   "source": [
    "# 1. Load the MNIST test dataset to get a sample image\n",
    "test_dataset = datasets.MNIST(root='./data', train=False, download=True)\n",
    "sample_image_pil, sample_label = test_dataset[15]  # Let's pick an interesting image\n",
    "sample_image_np = np.array(sample_image_pil)\n",
    "\n",
    "# 2. Instantiate the validator\n",
    "validator = ImageQualityValidator()\n",
    "\n",
    "# 3. Run the analysis on our sample image\n",
    "print(f\"--- Analyzing Sample Image for Digit '{sample_label}' ---\")\n",
    "warnings_found = validator.run(sample_image_np)\n",
    "\n",
    "# 4. Print the results\n",
    "if not warnings_found:\n",
    "    print(\"✅ No quality issues detected.\")\n",
    "else:\n",
    "    print(\"⚠️ The following quality issues were detected:\")\n",
    "    for warning in warnings_found:\n",
    "        print(f\"  - {warning}\")\n",
    "\n",
    "# 5. Visualize the image we just tested\n",
    "import matplotlib.pyplot as plt\n",
    "plt.imshow(sample_image_np, cmap='gray')\n",
    "plt.title(f\"Sample Image (Digit: {sample_label})\")\n",
    "plt.axis('off')\n",
    "plt.show()"
   ]
  }
 ],
 "metadata": {
  "kernelspec": {
   "display_name": "Python 3",
   "language": "python",
   "name": "python3"
  },
  "language_info": {
   "codemirror_mode": {
    "name": "ipython",
    "version": 3
   },
   "file_extension": ".py",
   "mimetype": "text/x-python",
   "name": "python",
   "nbconvert_exporter": "python",
   "pygments_lexer": "ipython3",
   "version": "3.11.9"
  }
 },
 "nbformat": 4,
 "nbformat_minor": 2
}
