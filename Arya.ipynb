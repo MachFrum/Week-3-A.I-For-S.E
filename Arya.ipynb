{
 "cells": [
  {
   "cell_type": "code",
   "execution_count": 1,
   "id": "f95e6fd4",
   "metadata": {},
   "outputs": [],
   "source": [
    "import torch\n",
    "import torch.nn as nn\n",
    "import torch.optim as optim\n",
    "from torchvision import datasets, transforms\n",
    "from torch.utils.data import DataLoader\n",
    "import matplotlib.pyplot as plt\n",
    "import numpy as np\n",
    "from sklearn.metrics import confusion_matrix, classification_report\n",
    "import seaborn as sns\n",
    "import os\n",
    "import cv2\n",
    "import random"
   ]
  },
  {
   "cell_type": "markdown",
   "id": "13da42c7",
   "metadata": {},
   "source": [
    "Data Augmentation & DataLoader"
   ]
  },
  {
   "cell_type": "code",
   "execution_count": 14,
   "id": "cba2c202",
   "metadata": {},
   "outputs": [
    {
     "name": "stdout",
     "output_type": "stream",
     "text": [
      "cpu\n"
     ]
    }
   ],
   "source": [
    "class RobustCNN(nn.Module):\n",
    "    def __init__(self):\n",
    "        super(RobustCNN, self).__init__()\n",
    "        self.feature_extractor = nn.Sequential(\n",
    "            nn.Conv2d(1, 32, 3, padding=1),\n",
    "            nn.BatchNorm2d(32),\n",
    "            nn.ReLU(),\n",
    "            nn.MaxPool2d(2,2),\n",
    "            nn.Conv2d(32, 64, 3, padding=1),\n",
    "            nn.BatchNorm2d(64),\n",
    "            nn.ReLU(),\n",
    "            nn.MaxPool2d(2,2)\n",
    "        )\n",
    "        self.adaptive_pool = nn.AdaptiveAvgPool2d((7, 7))\n",
    "        self.classifier = nn.Sequential(\n",
    "            nn.Flatten(),\n",
    "            nn.Linear(64 * 7 * 7, 128),\n",
    "            nn.BatchNorm1d(128),\n",
    "            nn.ReLU(),\n",
    "            nn.Dropout(0.5),\n",
    "            nn.Linear(128, 10)\n",
    "        )\n",
    "    def forward(self, x):\n",
    "        x = self.feature_extractor(x)\n",
    "        x = self.adaptive_pool(x)\n",
    "        x = self.classifier(x)\n",
    "        return x\n",
    "device = torch.device(\"cuda\" if torch.cuda.is_available() else \"cpu\")    \n",
    "print(device)"
   ]
  },
  {
   "cell_type": "markdown",
   "id": "8661ab16",
   "metadata": {},
   "source": [
    "Train/Test Helpers"
   ]
  },
  {
   "cell_type": "code",
   "execution_count": 11,
   "id": "46a78cf4",
   "metadata": {},
   "outputs": [],
   "source": [
    "def train_epoch(model, device, train_loader, optimizer, criterion, epoch):\n",
    "    model.train()\n",
    "    total_loss = 0\n",
    "    correct = 0\n",
    "    for batch_idx, (data, target) in enumerate(train_loader):\n",
    "        data, target = data.to(device), target.to(device)\n",
    "        optimizer.zero_grad()\n",
    "        output = model(data)\n",
    "        loss = criterion(output, target)\n",
    "        loss.backward()\n",
    "        optimizer.step()\n",
    "        total_loss += loss.item()\n",
    "        pred = output.argmax(dim=1, keepdim=True)\n",
    "        correct += pred.eq(target.view_as(pred)).sum().item()\n",
    "        if batch_idx % 200 == 0:\n",
    "            print(f'Train Epoch: {epoch} [{batch_idx * len(data)}/{len(train_loader.dataset)}]\\tLoss: {loss.item():.6f}')\n",
    "    avg_loss = total_loss / len(train_loader)\n",
    "    accuracy = 100. * correct / len(train_loader.dataset)\n",
    "    return avg_loss, accuracy\n",
    "\n",
    "def test_model(model, device, test_loader, criterion):\n",
    "    model.eval()\n",
    "    test_loss = 0\n",
    "    correct = 0\n",
    "    all_preds = []\n",
    "    all_targets = []\n",
    "    with torch.no_grad():\n",
    "        for data, target in test_loader:\n",
    "            data, target = data.to(device), target.to(device)\n",
    "            output = model(data)\n",
    "            test_loss += criterion(output, target).item()\n",
    "            pred = output.argmax(dim=1)\n",
    "            correct += pred.eq(target).sum().item()\n",
    "            all_preds.extend(pred.cpu().numpy())\n",
    "            all_targets.extend(target.cpu().numpy())\n",
    "    avg_test_loss = test_loss / len(test_loader)\n",
    "    accuracy = 100. * correct / len(test_loader.dataset)\n",
    "    print(f'\\nTest set: Average loss: {avg_test_loss:.4f}, Accuracy: {correct}/{len(test_loader.dataset)} ({accuracy:.2f}%)\\n')\n",
    "    return all_preds, all_targets\n",
    "\n",
    "def analyze_and_visualize(all_targets, all_preds):\n",
    "    print(\"--- Model Performance Analysis ---\")\n",
    "    print(\"\\nDetailed Classification Report:\")\n",
    "    print(classification_report(all_targets, all_preds, target_names=[str(i) for i in range(10)]))\n",
    "    cm = confusion_matrix(all_targets, all_preds)\n",
    "    plt.figure(figsize=(10, 8))\n",
    "    sns.heatmap(cm, annot=True, fmt='d', cmap='Blues', xticklabels=range(10), yticklabels=range(10))\n",
    "    plt.title('Confusion Matrix')\n",
    "    plt.xlabel('Predicted Label')\n",
    "    plt.ylabel('True Label')\n",
    "    plt.show()"
   ]
  },
  {
   "cell_type": "markdown",
   "id": "d14fcda6",
   "metadata": {},
   "source": [
    "Run Training"
   ]
  },
  {
   "cell_type": "code",
   "execution_count": 16,
   "id": "17b7a358",
   "metadata": {},
   "outputs": [],
   "source": [
    "BATCH_SIZE = 64\n",
    "EPOCHS = 5\n",
    "LEARNING_RATE = 0.001\n",
    "MODEL_SAVE_DIR = \"models\"\n",
    "MODEL_SAVE_PATH = os.path.join(MODEL_SAVE_DIR, \"mnist_robust_cnn.pth\")"
   ]
  },
  {
   "cell_type": "code",
   "execution_count": 18,
   "id": "907c9cc2",
   "metadata": {},
   "outputs": [],
   "source": [
    "from torchvision import datasets, transforms\n",
    "from torch.utils.data import DataLoader\n",
    "\n",
    "# Data augmentation and normalization for training\n",
    "train_transform = transforms.Compose([\n",
    "    transforms.RandomRotation(degrees=(-30, 30)),\n",
    "    transforms.RandomAffine(degrees=0, shear=10),\n",
    "    transforms.RandomResizedCrop(28, scale=(0.85, 1.0)),\n",
    "    transforms.ColorJitter(brightness=0.2, contrast=0.2),\n",
    "    transforms.ToTensor(),\n",
    "    transforms.Normalize((0.1307,), (0.3081,))\n",
    "])\n",
    "test_transform = transforms.Compose([\n",
    "    transforms.ToTensor(),\n",
    "    transforms.Normalize((0.1307,), (0.3081,))\n",
    "])\n",
    "\n",
    "train_dataset = datasets.MNIST(root='./data', train=True, download=True, transform=train_transform)\n",
    "test_dataset = datasets.MNIST(root='./data', train=False, download=True, transform=test_transform)\n",
    "\n",
    "train_loader = DataLoader(train_dataset, batch_size=BATCH_SIZE, shuffle=True)\n",
    "test_loader = DataLoader(test_dataset, batch_size=1000, shuffle=False)"
   ]
  },
  {
   "cell_type": "code",
   "execution_count": 19,
   "id": "d58711aa",
   "metadata": {},
   "outputs": [
    {
     "name": "stdout",
     "output_type": "stream",
     "text": [
      "Train Epoch: 1 [0/60000]\tLoss: 2.460942\n",
      "Train Epoch: 1 [12800/60000]\tLoss: 0.295247\n",
      "Train Epoch: 1 [25600/60000]\tLoss: 0.408926\n",
      "Train Epoch: 1 [38400/60000]\tLoss: 0.293061\n",
      "Train Epoch: 1 [51200/60000]\tLoss: 0.199032\n",
      "Epoch 1 Summary: Train Acc: 91.89%, Avg Loss: 0.2976\n",
      "Train Epoch: 2 [0/60000]\tLoss: 0.179306\n",
      "Train Epoch: 2 [12800/60000]\tLoss: 0.363517\n",
      "Train Epoch: 2 [25600/60000]\tLoss: 0.342284\n",
      "Train Epoch: 2 [38400/60000]\tLoss: 0.231377\n",
      "Train Epoch: 2 [51200/60000]\tLoss: 0.248259\n",
      "Epoch 2 Summary: Train Acc: 95.25%, Avg Loss: 0.1549\n",
      "Train Epoch: 3 [0/60000]\tLoss: 0.224439\n",
      "Train Epoch: 3 [12800/60000]\tLoss: 0.072062\n",
      "Train Epoch: 3 [25600/60000]\tLoss: 0.081854\n",
      "Train Epoch: 3 [38400/60000]\tLoss: 0.115486\n",
      "Train Epoch: 3 [51200/60000]\tLoss: 0.099513\n",
      "Epoch 3 Summary: Train Acc: 96.07%, Avg Loss: 0.1288\n",
      "Train Epoch: 4 [0/60000]\tLoss: 0.088836\n",
      "Train Epoch: 4 [12800/60000]\tLoss: 0.201096\n",
      "Train Epoch: 4 [25600/60000]\tLoss: 0.069891\n",
      "Train Epoch: 4 [38400/60000]\tLoss: 0.070270\n",
      "Train Epoch: 4 [51200/60000]\tLoss: 0.168159\n",
      "Epoch 4 Summary: Train Acc: 96.61%, Avg Loss: 0.1133\n",
      "Train Epoch: 5 [0/60000]\tLoss: 0.076039\n",
      "Train Epoch: 5 [12800/60000]\tLoss: 0.178564\n",
      "Train Epoch: 5 [25600/60000]\tLoss: 0.048674\n",
      "Train Epoch: 5 [38400/60000]\tLoss: 0.079206\n",
      "Train Epoch: 5 [51200/60000]\tLoss: 0.166558\n",
      "Epoch 5 Summary: Train Acc: 96.85%, Avg Loss: 0.1046\n",
      "\n",
      "Test set: Average loss: 0.0252, Accuracy: 9921/10000 (99.21%)\n",
      "\n",
      "--- Model Performance Analysis ---\n",
      "\n",
      "Detailed Classification Report:\n",
      "              precision    recall  f1-score   support\n",
      "\n",
      "           0       0.99      1.00      1.00       980\n",
      "           1       1.00      0.99      0.99      1135\n",
      "           2       0.99      0.99      0.99      1032\n",
      "           3       0.99      1.00      0.99      1010\n",
      "           4       0.99      0.99      0.99       982\n",
      "           5       0.99      0.99      0.99       892\n",
      "           6       0.99      0.99      0.99       958\n",
      "           7       0.99      0.99      0.99      1028\n",
      "           8       1.00      0.99      0.99       974\n",
      "           9       0.98      0.99      0.99      1009\n",
      "\n",
      "    accuracy                           0.99     10000\n",
      "   macro avg       0.99      0.99      0.99     10000\n",
      "weighted avg       0.99      0.99      0.99     10000\n",
      "\n"
     ]
    },
    {
     "data": {
      "image/png": "[encoded data removed]",
      "text/plain": [
       "<Figure size 1000x800 with 2 Axes>"
      ]
     },
     "metadata": {},
     "output_type": "display_data"
    }
   ],
   "source": [
    "# Initialize Model, Loss, and Optimizer\n",
    "model = RobustCNN().to(device)\n",
    "optimizer = optim.Adam(model.parameters(), lr=LEARNING_RATE)\n",
    "criterion = nn.CrossEntropyLoss()\n",
    "\n",
    "# Training Loop\n",
    "for epoch in range(1, EPOCHS + 1):\n",
    "    train_loss, train_acc = train_epoch(model, device, train_loader, optimizer, criterion, epoch)\n",
    "    print(f\"Epoch {epoch} Summary: Train Acc: {train_acc:.2f}%, Avg Loss: {train_loss:.4f}\")\n",
    "\n",
    "# Test and Evaluate final model\n",
    "final_preds, final_targets = test_model(model, device, test_loader, criterion)\n",
    "\n",
    "# Performance Analysis\n",
    "analyze_and_visualize(final_targets, final_preds)"
   ]
  },
  {
   "cell_type": "code",
   "execution_count": 20,
   "id": "5172bc68",
   "metadata": {},
   "outputs": [
    {
     "name": "stdout",
     "output_type": "stream",
     "text": [
      "✅ Model saved to models\\mnist_robust_cnn.pth\n"
     ]
    }
   ],
   "source": [
    "os.makedirs(MODEL_SAVE_DIR, exist_ok=True)\n",
    "torch.save(model.state_dict(), MODEL_SAVE_PATH)\n",
    "print(f\"✅ Model saved to {MODEL_SAVE_PATH}\")"
   ]
  }
 ],
 "metadata": {
  "kernelspec": {
   "display_name": "Python 3",
   "language": "python",
   "name": "python3"
  },
  "language_info": {
   "codemirror_mode": {
    "name": "ipython",
    "version": 3
   },
   "file_extension": ".py",
   "mimetype": "text/x-python",
   "name": "python",
   "nbconvert_exporter": "python",
   "pygments_lexer": "ipython3",
   "version": "3.11.9"
  }
 },
 "nbformat": 4,
 "nbformat_minor": 5
}
